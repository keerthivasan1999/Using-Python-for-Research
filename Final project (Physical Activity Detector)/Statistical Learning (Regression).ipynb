{
 "cells": [
  {
   "cell_type": "markdown",
   "id": "4e07781a",
   "metadata": {},
   "source": [
    "### Statistical Learning\n",
    "\n",
    "\n",
    "Statistical Learning: Large collections of tools that are used to understanding the data.\n",
    "\n",
    "Two catogories: Supervised learning and Unsupervised learning.\n",
    "\n",
    "Supervised leaning: Collections of techniques and algorithmns that when given a set of examples inputs and outputs, will associate the inputs with the outputs. Outputs are provided by a supervisor (a human or another algorithmn)\n",
    "\n",
    "Unsupervised learning: Collections of techniques and algorithmns that when given with inputs only (no outputs). Goal is to learn relationship and structure from such data\n",
    "\n",
    "Regressions: Problems that have continueous outputs.\n",
    "Classification: Problems that have categorical outputs. Like 0 or 1, blue or green, etc.\n",
    "\n",
    "In statistics, variables can be either quantitative or qualitative. Quantitative variables takes numerical values like incomes. Qualitative variables takes values in a given category such as male and females.\n",
    "\n",
    "Supervised learnings can be classified into two catogories based on the outcomes. If the outcome/output is quantitative, then we're talking about \"Regression\" problems. If the outcome/output is qualitative, then we're talking about \"Classification\" problems. \n",
    "\n",
    "Y = f(X) predicting the values of Y from the values of X. What the best prediction is depends on the so-called loss function. Loss function: Way of quantifying how far our predictions for Y for a given value of X are from the ture observed values of Y.\n",
    "\n",
    "Squared error loss function: A loss function in the regression setting. What we should predict is the average of all values of Y that correspond to a given values of X\n",
    "\n",
    "0-1 loss function: A loss function in the classification setting. The best classification for a given X is obtained by classifying observation of the class with the highest conditional probability given X"
   ]
  },
  {
   "cell_type": "markdown",
   "id": "2e30405a",
   "metadata": {},
   "source": [
    "### Generating Example Regression Data"
   ]
  },
  {
   "cell_type": "code",
   "execution_count": 2,
   "id": "3d8980c1",
   "metadata": {},
   "outputs": [
    {
     "data": {
      "text/plain": [
       "Text(0, 0.5, 'y')"
      ]
     },
     "execution_count": 2,
     "metadata": {},
     "output_type": "execute_result"
    },
    {
     "data": {
      "image/png": "[encoded data removed]",
      "text/plain": [
       "<Figure size 432x288 with 1 Axes>"
      ]
     },
     "metadata": {
      "needs_background": "light"
     },
     "output_type": "display_data"
    }
   ],
   "source": [
    "import numpy as np\n",
    "import scipy.stats as ss\n",
    "import matplotlib.pyplot as plt\n",
    "\n",
    "n=100\n",
    "beta_0=5\n",
    "beta_1=2\n",
    "np.random.seed(1)\n",
    "x = 10 * ss.uniform.rvs(size=n) #Generating 100 random values for x in range 0 to 1o\n",
    "#ss.uniform.rvs(size=100) generates 100 values between 0 and 1\n",
    "#Multiplying with 10 leads the 100 values to be between 0 and 10\n",
    "y=beta_0 + beta_1 *x + ss.norm.rvs(loc=0,scale=1,size=n)\n",
    "#loc - mean, scale - standard deviation\n",
    "plt.figure()\n",
    "plt.plot(x,y,\"r.\",ms=5)\n",
    "xx=np.array([0,10])#xx are range of x values for which I would like to plot my regression function\n",
    "plt.plot(xx, beta_0 + beta_1 *xx)\n",
    "plt.xlabel(\"x\")\n",
    "plt.ylabel(\"y\")"
   ]
  },
  {
   "cell_type": "code",
   "execution_count": 3,
   "id": "1639fd00",
   "metadata": {},
   "outputs": [
    {
     "name": "stdout",
     "output_type": "stream",
     "text": [
      "[0.15533276 5.93481408 4.33676349 8.07360529 3.15244803 8.92888709\n",
      " 5.77857215 1.84010202 7.87929234 6.12031177]\n",
      "5.220012901024736\n",
      "[-0.11044703 -0.61736206  0.5627611   0.24073709  0.28066508 -0.0731127\n",
      "  1.16033857  0.36949272  1.90465871  1.1110567 ]\n",
      "0.4828788165373421\n"
     ]
    }
   ],
   "source": [
    "import scipy.stats as ss\n",
    "import numpy as np\n",
    "r=10*ss.uniform.rvs(size=10)\n",
    "print(r)\n",
    "print(np.mean(r))\n",
    "m=ss.norm.rvs(loc=0,scale=1,size=10)\n",
    "print(m)\n",
    "print(np.mean(m))"
   ]
  },
  {
   "cell_type": "markdown",
   "id": "ae221fcb",
   "metadata": {},
   "source": [
    "### Comprehensive check"
   ]
  },
  {
   "cell_type": "code",
   "execution_count": 4,
   "id": "12676d9b",
   "metadata": {},
   "outputs": [
    {
     "name": "stdout",
     "output_type": "stream",
     "text": [
      "4.86 14.8\n"
     ]
    }
   ],
   "source": [
    "import numpy as np\n",
    "import scipy.stats as ss\n",
    "import matplotlib.pyplot as plt\n",
    "n = 100\n",
    "beta_0 = 5\n",
    "beta_1 = 2\n",
    "np.random.seed(1)\n",
    "x = 10 * ss.uniform.rvs(size=n)\n",
    "y = beta_0 + beta_1 * x + ss.norm.rvs(loc=0, scale = 1, size = n)\n",
    "print(round(np.mean(x),2),round(np.mean(y),2))"
   ]
  },
  {
   "cell_type": "markdown",
   "id": "542d97f6",
   "metadata": {},
   "source": [
    "### Simple Linear Regression\n",
    "\n",
    "Predict the response of Y based on the single predictor X\n",
    "\n",
    "$Y$ = $\\beta_0$ + $\\beta_1 X$ + $\\epsilon$\n",
    "\n",
    "$Y$ and $X$ are random variables and $\\epsilon$ is error\n",
    "\n",
    "Whereas for y = $\\beta_0$ + $\\beta_1$x, y is specific value of $Y$ and x=$X$\n",
    "Best model parameters $\\beta_0$, $\\beta_1$ are attained when RSS is minimum"
   ]
  },
  {
   "cell_type": "code",
   "execution_count": 5,
   "id": "0be95e81",
   "metadata": {},
   "outputs": [
    {
     "name": "stdout",
     "output_type": "stream",
     "text": [
      "RSS:  81.540007425512\n"
     ]
    },
    {
     "data": {
      "text/plain": [
       "Text(0, 0.5, 'y')"
      ]
     },
     "execution_count": 5,
     "metadata": {},
     "output_type": "execute_result"
    },
    {
     "data": {
      "image/png": "[encoded data removed]",
      "text/plain": [
       "<Figure size 432x288 with 1 Axes>"
      ]
     },
     "metadata": {
      "needs_background": "light"
     },
     "output_type": "display_data"
    }
   ],
   "source": [
    "import scipy.stats as ss\n",
    "import matplotlib.pyplot as plt\n",
    "import numpy as np\n",
    "\n",
    "def compute_rss(y_estimate, y):\n",
    "  return sum(np.power(y-y_estimate, 2))\n",
    "\n",
    "def estimate_y(x, b_0, b_1):\n",
    "  return b_0 + b_1 * x\n",
    "\n",
    "n = 100\n",
    "beta_0 = 5\n",
    "beta_1 = 2\n",
    "np.random.seed(1)\n",
    "x = 10 * ss.uniform.rvs(size=n)\n",
    "y = beta_0 + beta_1 * x + ss.norm.rvs(loc=0, scale = 1, size = n)\n",
    "\n",
    "rss = compute_rss(estimate_y(x, beta_0, beta_1), y)\n",
    "print(\"RSS: \",rss)\n",
    "plt.figure()\n",
    "plt.plot(x,y,\"r.\",ms=5)\n",
    "plt.plot(xx, beta_0 + beta_1 *xx)\n",
    "plt.xlabel(\"x\")\n",
    "plt.ylabel(\"y\")"
   ]
  },
  {
   "cell_type": "markdown",
   "id": "b04d322c",
   "metadata": {},
   "source": [
    "### Least Squares Estimation in Code\n",
    "\n",
    "Let us assumme we know the value of $\\beta_0$, and let us find the value of $\\beta_1$ (slope of the curve) that gives the minimum RSS"
   ]
  },
  {
   "cell_type": "code",
   "execution_count": 6,
   "id": "03e3b792",
   "metadata": {},
   "outputs": [
    {
     "name": "stdout",
     "output_type": "stream",
     "text": [
      "Estimate for the slope:  2.0\n"
     ]
    },
    {
     "data": {
      "text/plain": [
       "Text(0, 0.5, 'RSS')"
      ]
     },
     "execution_count": 6,
     "metadata": {},
     "output_type": "execute_result"
    },
    {
     "data": {
      "image/png": "[encoded data removed]",
      "text/plain": [
       "<Figure size 432x288 with 1 Axes>"
      ]
     },
     "metadata": {
      "needs_background": "light"
     },
     "output_type": "display_data"
    }
   ],
   "source": [
    "import scipy.stats as ss\n",
    "import matplotlib.pyplot as plt\n",
    "import numpy as np\n",
    "\n",
    "n=100\n",
    "beta_0=5\n",
    "beta_1=2\n",
    "\n",
    "np.random.seed(1)\n",
    "x=10*ss.uniform.rvs(size=n)\n",
    "y=beta_0 + beta_1 * x + ss.norm.rvs(loc=0, scale = 1, size = n)\n",
    "\n",
    "\n",
    "rss=[]\n",
    "slopes=np.arange(-10,15,0.001)\n",
    "for slope in slopes:\n",
    "    rss.append(np.sum((y-beta_0-slope*x)**2))\n",
    "ind_min=np.argmin(rss)\n",
    "print(\"Estimate for the slope: \",round(slopes[ind_min],2))\n",
    "\n",
    "#note that value of beta_1 obtained is similar to what we set above\n",
    "plt.figure()\n",
    "plt.plot(slopes, rss)\n",
    "plt.xlabel(\"Slope\")\n",
    "plt.ylabel(\"RSS\")"
   ]
  },
  {
   "cell_type": "code",
   "execution_count": 10,
   "id": "f29caef3",
   "metadata": {},
   "outputs": [
    {
     "name": "stdout",
     "output_type": "stream",
     "text": [
      "[-10  -9  -8  -7  -6  -5  -4  -3  -2  -1   0   1   2   3   4   5   6   7\n",
      "   8   9  10  11  12  13  14]\n",
      "4\n"
     ]
    }
   ],
   "source": [
    "import numpy as np\n",
    "print(np.arange(-10,15,1)) #generates a array between -10 and 15 (excluding) with a step of 1\n",
    "a=[1,5,4,99,-1]\n",
    "print(np.argmin(a))#returns the index of the smallest list element."
   ]
  },
  {
   "cell_type": "markdown",
   "id": "857d6d6d",
   "metadata": {},
   "source": [
    "### Simple Linear Regression in Code"
   ]
  },
  {
   "cell_type": "code",
   "execution_count": 55,
   "id": "4b4a8460",
   "metadata": {},
   "outputs": [
    {
     "name": "stdout",
     "output_type": "stream",
     "text": [
      "                                 OLS Regression Results                                \n",
      "=======================================================================================\n",
      "Dep. Variable:                      y   R-squared (uncentered):                   0.968\n",
      "Model:                            OLS   Adj. R-squared (uncentered):              0.967\n",
      "Method:                 Least Squares   F-statistic:                              2974.\n",
      "Date:                Sun, 31 Jul 2022   Prob (F-statistic):                    1.14e-75\n",
      "Time:                        18:52:26   Log-Likelihood:                         -246.89\n",
      "No. Observations:                 100   AIC:                                      495.8\n",
      "Df Residuals:                      99   BIC:                                      498.4\n",
      "Df Model:                           1                                                  \n",
      "Covariance Type:            nonrobust                                                  \n",
      "==============================================================================\n",
      "                 coef    std err          t      P>|t|      [0.025      0.975]\n",
      "------------------------------------------------------------------------------\n",
      "x1             2.7569      0.051     54.538      0.000       2.657       2.857\n",
      "==============================================================================\n",
      "Omnibus:                        7.901   Durbin-Watson:                   1.579\n",
      "Prob(Omnibus):                  0.019   Jarque-Bera (JB):                3.386\n",
      "Skew:                           0.139   Prob(JB):                        0.184\n",
      "Kurtosis:                       2.143   Cond. No.                         1.00\n",
      "==============================================================================\n",
      "\n",
      "Notes:\n",
      "[1] R² is computed without centering (uncentered) since the model does not contain a constant.\n",
      "[2] Standard Errors assume that the covariance matrix of the errors is correctly specified.\n",
      "                            OLS Regression Results                            \n",
      "==============================================================================\n",
      "Dep. Variable:                      y   R-squared:                       0.977\n",
      "Model:                            OLS   Adj. R-squared:                  0.977\n",
      "Method:                 Least Squares   F-statistic:                     4115.\n",
      "Date:                Sun, 31 Jul 2022   Prob (F-statistic):           7.47e-82\n",
      "Time:                        18:52:26   Log-Likelihood:                -130.72\n",
      "No. Observations:                 100   AIC:                             265.4\n",
      "Df Residuals:                      98   BIC:                             270.7\n",
      "Df Model:                           1                                         \n",
      "Covariance Type:            nonrobust                                         \n",
      "==============================================================================\n",
      "                 coef    std err          t      P>|t|      [0.025      0.975]\n",
      "------------------------------------------------------------------------------\n",
      "const          5.2370      0.174     30.041      0.000       4.891       5.583\n",
      "x1             1.9685      0.031     64.151      0.000       1.908       2.029\n",
      "==============================================================================\n",
      "Omnibus:                        2.308   Durbin-Watson:                   2.206\n",
      "Prob(Omnibus):                  0.315   Jarque-Bera (JB):                1.753\n",
      "Skew:                          -0.189   Prob(JB):                        0.416\n",
      "Kurtosis:                       3.528   Cond. No.                         11.2\n",
      "==============================================================================\n",
      "\n",
      "Notes:\n",
      "[1] Standard Errors assume that the covariance matrix of the errors is correctly specified.\n"
     ]
    }
   ],
   "source": [
    "import statsmodels.api as sm\n",
    "mod = sm.OLS(y,x) #mod is a object. OLS is Ordinary least squares\n",
    "#x - predictor values\n",
    "est = mod.fit()\n",
    "print(est.summary())\n",
    "#since we've not included intercept int0\n",
    "#our model, coeff that we have got is little higher ~2.7\n",
    "X=sm.add_constant(x)\n",
    "#Capital X, is same as x, but includes one columns of 1s\n",
    "mod=sm.OLS(y, X)\n",
    "est=mod.fit()\n",
    "print(est.summary())"
   ]
  },
  {
   "cell_type": "markdown",
   "id": "1e6c5404",
   "metadata": {},
   "source": [
    "### Multiple Linear Regression\n",
    "\n",
    "The goal is to predict a quantitative or scalar valued response Y, on the basis of several predictor variables.\n",
    "$Y$ = $\\beta_0$ + $\\beta_1 X_1$ + $\\beta_2 X_2$ + ...."
   ]
  },
  {
   "cell_type": "markdown",
   "id": "31fcfec5",
   "metadata": {},
   "source": [
    "### scikit-learn for Linear Regression"
   ]
  },
  {
   "cell_type": "code",
   "execution_count": 9,
   "id": "ef9fce9c",
   "metadata": {},
   "outputs": [
    {
     "name": "stdout",
     "output_type": "stream",
     "text": [
      "1.985371161106092 -1.0116926913711268 5.22497801771553\n",
      "[5.14894957]\n",
      "R-square: 0.9773424925041747\n"
     ]
    },
    {
     "data": {
      "image/png": "[encoded data removed]",
      "text/plain": [
       "<Figure size 432x288 with 1 Axes>"
      ]
     },
     "metadata": {
      "needs_background": "light"
     },
     "output_type": "display_data"
    }
   ],
   "source": [
    "from mpl_toolkits.mplot3d import Axes3D\n",
    "np.random.seed(1)\n",
    "\n",
    "n-500\n",
    "beta_0=5\n",
    "beta_1=2\n",
    "beta_2=-1\n",
    "x_1=10*ss.uniform.rvs(size=n)\n",
    "x_2=10*ss.uniform.rvs(size=n)\n",
    "y=beta_0 + beta_1*x_1 + beta_2*x_2 + ss.norm.rvs(loc=0, scale=1, size=n)\n",
    "\n",
    "X=np.stack([x_1, x_2], axis=1) #x_1 and x_2 are columns of the matrix X\n",
    "fig=plt.figure()\n",
    "ax=fig.add_subplot(111, projection='3d')\n",
    "ax.scatter(X[:,0], X[:,1], y, c=y)\n",
    "ax.set_xlabel(\"$x_1$\")\n",
    "ax.set_ylabel(\"$x_2$\")\n",
    "ax.set_zlabel(\"$y$\")\n",
    "\n",
    "from sklearn.linear_model import LinearRegression\n",
    "lm=LinearRegression(fit_intercept=True)\n",
    "lm.fit(X, y)\n",
    "print(lm.coef_[0], lm.coef_[1], lm.intercept_)\n",
    "X_0=np.array([2, 4]).reshape(1, -1)\n",
    "print(lm.predict(X_0))\n",
    "print(\"R-square:\",lm.score(X, y))"
   ]
  },
  {
   "cell_type": "markdown",
   "id": "376affb4",
   "metadata": {},
   "source": [
    "### Assessing Model Accuracy\n",
    "\n",
    "In the regression setting, MSE (Mean Square Error) is the used to assessing the model accuracy.\n",
    "\n",
    "MSE of training data is called training MSE\n",
    "MSE of test data is called test MSE\n",
    "\n",
    "In the classifier setting, Training error rate is used for assessing the model accuracy. It is the proportion of errors that a classifier makes when applied to training data.\n",
    "Similarly we can define test error rate."
   ]
  },
  {
   "cell_type": "code",
   "execution_count": 60,
   "id": "f8dd31f2",
   "metadata": {},
   "outputs": [
    {
     "data": {
      "text/plain": [
       "0.9733678561169896"
      ]
     },
     "execution_count": 60,
     "metadata": {},
     "output_type": "execute_result"
    }
   ],
   "source": [
    "from sklearn.model_selection import train_test_split\n",
    "#we're spliting the data into training and test data set first\n",
    "X_train, X_test, y_train, y_test = train_test_split(X, y, train_size=0.5, random_state=1)\n",
    "lm=LinearRegression(fit_intercept=True)\n",
    "#we've created a model object lm. Next we'll fit it.\n",
    "lm.fit(X_train, y_train)\n",
    "lm.score(X_test, y_test)"
   ]
  }
 ],
 "metadata": {
  "kernelspec": {
   "display_name": "Python 3 (ipykernel)",
   "language": "python",
   "name": "python3"
  },
  "language_info": {
   "codemirror_mode": {
    "name": "ipython",
    "version": 3
   },
   "file_extension": ".py",
   "mimetype": "text/x-python",
   "name": "python",
   "nbconvert_exporter": "python",
   "pygments_lexer": "ipython3",
   "version": "3.9.7"
  }
 },
 "nbformat": 4,
 "nbformat_minor": 5
}
