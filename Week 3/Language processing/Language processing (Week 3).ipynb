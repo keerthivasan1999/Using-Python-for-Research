{
 "cells": [
  {
   "cell_type": "markdown",
   "id": "166a4f32",
   "metadata": {},
   "source": [
    "### Reading book"
   ]
  },
  {
   "cell_type": "code",
   "execution_count": 75,
   "id": "9fc25f1f",
   "metadata": {},
   "outputs": [
    {
     "data": {
      "text/plain": [
       "Text(0, 0.5, 'Number of unique words')"
      ]
     },
     "execution_count": 75,
     "metadata": {},
     "output_type": "execute_result"
    },
    {
     "data": {
      "image/png": "[encoded data removed]",
      "text/plain": [
       "<Figure size 720x720 with 1 Axes>"
      ]
     },
     "metadata": {
      "needs_background": "light"
     },
     "output_type": "display_data"
    }
   ],
   "source": [
    "from collections import Counter\n",
    "import os\n",
    "import pandas as pd\n",
    "import matplotlib.pyplot as plt\n",
    "\n",
    "def read_book(title_path):\n",
    "    with open(title_path, \"r\", encoding=\"utf8\") as current_file:\n",
    "        text = current_file.read()\n",
    "        text = text.replace(\"\\n\",\"\").replace(\"\\r\",\"\")\n",
    "    return text\n",
    "\n",
    "def count_words_fast(text):\n",
    "    text=text.lower()\n",
    "    skips = [\",\", \".\",\":\",\";\",\"'\",'\"']\n",
    "    word_count = {}\n",
    "    \n",
    "    for ch in skips:\n",
    "        text=text.replace(ch,\"\")\n",
    "        \n",
    "    word_count = Counter(text.split(\" \"))\n",
    "    return word_count\n",
    "\n",
    "def word_stats(word_counts):\n",
    "    num_unique = len(word_counts)\n",
    "    counts = word_counts.values()\n",
    "    return num_unique, counts\n",
    "    \n",
    "#text = read_book(\"C:/Ajith/Acadamics/edx/Using python for research/Week 3/Language processing/Books/English/shakespeare/Romeo and Juliet.txt\")\n",
    "#word_counts = count_words_fast(text)        \n",
    "#num_unique, counts = word_stats(word_counts)\n",
    "#print(\"Number of unique words:\",num_unique, \"Total number of words:\",sum(counts))\n",
    "\n",
    "#text = read_book(\"C:/Ajith/Acadamics/edx/Using python for research/Week 3/Language processing/Books/German/shakespeare/Romeo und Julia.txt\")\n",
    "#word_counts = count_words_fast(text)        \n",
    "#num_unique, counts = word_stats(word_counts)\n",
    "#print(\"Number of unique words:\",num_unique, \"Total number of words:\",sum(counts))\n",
    "\n",
    "stats = pd.DataFrame(columns = (\"Language\",\"Author\",\"Title\",\"Length\",\"Unique\"))\n",
    "title_num = 1\n",
    "book_dir = \"C:/Ajith/Acadamics/edx/Using python for research/Week 3/Language processing/Books\"\n",
    "for language in os.listdir(book_dir):\n",
    "    for author in os.listdir(book_dir + \"/\" + language):\n",
    "        for title in os.listdir(book_dir + \"/\" + language + \"/\" + author):\n",
    "            inputfile = book_dir + \"/\" + language + \"/\" + author + \"/\" + title\n",
    "            text = read_book(inputfile)\n",
    "            word_counts = count_words_fast(text)        \n",
    "            num_unique, counts = word_stats(word_counts)\n",
    "            stats.loc[title_num] = language, author.capitalize(), title[:-4], sum(counts), num_unique\n",
    "            title_num+=1\n",
    "            #print(inputfile)\n",
    "            #print(\"Number of unique words:\",num_unique, \"Total number of words:\",sum(counts))\n",
    "\n",
    "            \n",
    "plt.figure(figsize=(10,10))\n",
    "subset = stats[stats.Language==\"English\"]\n",
    "plt.loglog(subset.Length, subset.Unique, \"o\", label = \"English\", color=\"crimson\")\n",
    "subset = stats[stats.Language==\"French\"]\n",
    "plt.loglog(subset.Length, subset.Unique, \"o\", label = \"French\", color=\"forestgreen\")\n",
    "subset = stats[stats.Language==\"German\"]\n",
    "plt.loglog(subset.Length, subset.Unique, \"o\", label = \"German\", color=\"orange\")\n",
    "subset = stats[stats.Language==\"Portuguese\"]\n",
    "plt.loglog(subset.Length, subset.Unique, \"o\", label = \"Portuguese\", color=\"blueviolet\")\n",
    "plt.legend()\n",
    "plt.xlabel(\"Book length\")\n",
    "plt.ylabel(\"Number of unique words\")\n"
   ]
  },
  {
   "cell_type": "markdown",
   "id": "d2cc5db6",
   "metadata": {},
   "source": [
    "### Directory handling"
   ]
  },
  {
   "cell_type": "code",
   "execution_count": 59,
   "id": "3a7a37c0",
   "metadata": {},
   "outputs": [],
   "source": [
    "import os\n",
    "book_dir = \"C:/Ajith/Acadamics/edx/Using python for research/Week 3/Language processing/Books\"\n",
    "for language in os.listdir(book_dir):\n",
    "    for author in os.listdir(book_dir + \"/\" + language):\n",
    "        for title in os.listdir(book_dir + \"/\" + language + \"/\" + author):\n",
    "            inputfile = book_dir + \"/\" + language + \"/\" + author + \"/\" + title\n",
    "            #print(inputfile)"
   ]
  },
  {
   "cell_type": "markdown",
   "id": "7d57a037",
   "metadata": {},
   "source": [
    "### Word count"
   ]
  },
  {
   "cell_type": "code",
   "execution_count": 9,
   "id": "f749d7fd",
   "metadata": {},
   "outputs": [
    {
     "name": "stdout",
     "output_type": "stream",
     "text": [
      "{'this': 1, 'comprehension': 2, 'check': 2, 'is': 1, 'to': 1, 'for': 1}\n"
     ]
    },
    {
     "data": {
      "text/plain": [
       "True"
      ]
     },
     "execution_count": 9,
     "metadata": {},
     "output_type": "execute_result"
    }
   ],
   "source": [
    "def count_words(text):\n",
    "    text=text.lower()\n",
    "    skips = [\",\", \".\",\":\",\";\",\"'\",'\"']\n",
    "    word_count = {}\n",
    "    \n",
    "    for ch in skips:\n",
    "        text=text.replace(ch,\"\")\n",
    "        \n",
    "    for word in text.split(\" \"):\n",
    "        if word in word_count:\n",
    "            word_count[word]+=1\n",
    "        else:\n",
    "            word_count[word]=1\n",
    "    return word_count\n",
    "\n",
    "from collections import Counter\n",
    "\n",
    "def count_words_fast(text):\n",
    "    text=text.lower()\n",
    "    skips = [\",\", \".\",\":\",\";\",\"'\",'\"']\n",
    "    word_count = {}\n",
    "    \n",
    "    for ch in skips:\n",
    "        text=text.replace(ch,\"\")\n",
    "        \n",
    "    word_count = Counter(text.split(\" \"))\n",
    "    return word_count\n",
    "\n",
    "text =\"This comprehension check is to check for comprehension.\"\n",
    "print(count_words(text))\n",
    "\n",
    "count_words(text) == count_words_fast(text)    "
   ]
  },
  {
   "cell_type": "markdown",
   "id": "995de652",
   "metadata": {},
   "source": [
    "### Pandas examples"
   ]
  },
  {
   "cell_type": "code",
   "execution_count": 8,
   "id": "a4f289a6",
   "metadata": {},
   "outputs": [
    {
     "data": {
      "text/html": [
       "<div>\n",
       "<style scoped>\n",
       "    .dataframe tbody tr th:only-of-type {\n",
       "        vertical-align: middle;\n",
       "    }\n",
       "\n",
       "    .dataframe tbody tr th {\n",
       "        vertical-align: top;\n",
       "    }\n",
       "\n",
       "    .dataframe thead th {\n",
       "        text-align: right;\n",
       "    }\n",
       "</style>\n",
       "<table border=\"1\" class=\"dataframe\">\n",
       "  <thead>\n",
       "    <tr style=\"text-align: right;\">\n",
       "      <th></th>\n",
       "      <th>Name</th>\n",
       "      <th>Age</th>\n",
       "    </tr>\n",
       "  </thead>\n",
       "  <tbody>\n",
       "    <tr>\n",
       "      <th>1</th>\n",
       "      <td>Keerthi</td>\n",
       "      <td>22</td>\n",
       "    </tr>\n",
       "    <tr>\n",
       "      <th>2</th>\n",
       "      <td>Muthu</td>\n",
       "      <td>58</td>\n",
       "    </tr>\n",
       "    <tr>\n",
       "      <th>3</th>\n",
       "      <td>Arun</td>\n",
       "      <td>24</td>\n",
       "    </tr>\n",
       "  </tbody>\n",
       "</table>\n",
       "</div>"
      ],
      "text/plain": [
       "      Name Age\n",
       "1  Keerthi  22\n",
       "2    Muthu  58\n",
       "3     Arun  24"
      ]
     },
     "execution_count": 8,
     "metadata": {},
     "output_type": "execute_result"
    }
   ],
   "source": [
    "import pandas as pd\n",
    "\n",
    "table = pd.DataFrame(columns = (\"Name\",\"Age\"))\n",
    "table.loc[1] = \"Keerthi\",22\n",
    "table.loc[2] = \"Muthu\",58\n",
    "table.loc[3] = \"Arun\",24\n",
    "\n",
    "table\n"
   ]
  }
 ],
 "metadata": {
  "kernelspec": {
   "display_name": "Python 3 (ipykernel)",
   "language": "python",
   "name": "python3"
  },
  "language_info": {
   "codemirror_mode": {
    "name": "ipython",
    "version": 3
   },
   "file_extension": ".py",
   "mimetype": "text/x-python",
   "name": "python",
   "nbconvert_exporter": "python",
   "pygments_lexer": "ipython3",
   "version": "3.9.7"
  }
 },
 "nbformat": 4,
 "nbformat_minor": 5
}
